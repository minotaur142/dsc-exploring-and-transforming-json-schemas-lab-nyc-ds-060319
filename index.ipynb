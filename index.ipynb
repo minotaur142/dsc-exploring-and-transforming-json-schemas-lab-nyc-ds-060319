{
 "cells": [
  {
   "cell_type": "markdown",
   "metadata": {},
   "source": [
    "# Exploring and Transforming JSON Schemas"
   ]
  },
  {
   "cell_type": "markdown",
   "metadata": {},
   "source": [
    "# Introduction\n",
    "\n",
    "In this lesson, you'll formalize how to explore a JSON file whose structure and schema is unknown to you. This often happens in practice when you are handed a file or stumble upon one with little documentation."
   ]
  },
  {
   "cell_type": "markdown",
   "metadata": {},
   "source": [
    "## Objectives\n",
    "You will be able to:\n",
    "* Explore unknown JSON schemas\n",
    "* Access and manipulate data inside a JSON file\n",
    "* Convert JSON to alternative data formats"
   ]
  },
  {
   "cell_type": "markdown",
   "metadata": {},
   "source": [
    "## Loading the JSON file\n",
    "\n",
    "Load the data from the file disease_data.json."
   ]
  },
  {
   "cell_type": "code",
   "execution_count": 1,
   "metadata": {},
   "outputs": [],
   "source": [
    "#Your code here \n",
    "import json\n",
    "f = open('disease_data.json')\n",
    "data = json.load(f)"
   ]
  },
  {
   "cell_type": "markdown",
   "metadata": {},
   "source": [
    "## Explore the first and second levels of the schema hierarchy"
   ]
  },
  {
   "cell_type": "code",
   "execution_count": 8,
   "metadata": {},
   "outputs": [
    {
     "data": {
      "text/plain": [
       "dict"
      ]
     },
     "execution_count": 8,
     "metadata": {},
     "output_type": "execute_result"
    }
   ],
   "source": [
    "#Your code here\n",
    "type(data)\n",
    "type(data['data'])"
   ]
  },
  {
   "cell_type": "markdown",
   "metadata": {},
   "source": [
    "## Convert to a DataFrame\n",
    "\n",
    "Create a DataFrame from the JSON file. Be sure to retrive the column names for the dataframe. (Search within the 'meta' key of the master dictionary.) The DataFrame should include all 42 columns."
   ]
  },
  {
   "cell_type": "code",
   "execution_count": 17,
   "metadata": {},
   "outputs": [],
   "source": [
    "import pandas as pd\n",
    "df = pd.DataFrame(data['data'])\n",
    "cols = data['meta']['view'].keys()\n",
    "cols = [i['name'] for i in data['meta']['view']['columns']]\n",
    "df.columns = cols"
   ]
  },
  {
   "cell_type": "code",
   "execution_count": 42,
   "metadata": {
    "scrolled": true
   },
   "outputs": [
    {
     "data": {
      "text/plain": [
       "Index(['sid', 'id', 'position', 'created_at', 'created_meta', 'updated_at',\n",
       "       'updated_meta', 'meta', 'YearStart', 'YearEnd', 'LocationAbbr',\n",
       "       'LocationDesc', 'DataSource', 'Topic', 'Question', 'Response',\n",
       "       'DataValueUnit', 'DataValueType', 'DataValue', 'DataValueAlt',\n",
       "       'DataValueFootnoteSymbol', 'DatavalueFootnote', 'LowConfidenceLimit',\n",
       "       'HighConfidenceLimit', 'StratificationCategory1', 'Stratification1',\n",
       "       'StratificationCategory2', 'Stratification2', 'StratificationCategory3',\n",
       "       'Stratification3', 'GeoLocation', 'ResponseID', 'LocationID', 'TopicID',\n",
       "       'QuestionID', 'DataValueTypeID', 'StratificationCategoryID1',\n",
       "       'StratificationID1', 'StratificationCategoryID2', 'StratificationID2',\n",
       "       'StratificationCategoryID3', 'StratificationID3'],\n",
       "      dtype='object')"
      ]
     },
     "execution_count": 42,
     "metadata": {},
     "output_type": "execute_result"
    }
   ],
   "source": [
    "df.columns"
   ]
  },
  {
   "cell_type": "code",
   "execution_count": 52,
   "metadata": {},
   "outputs": [
    {
     "data": {
      "text/plain": [
       "4725     Current asthma prevalence among adults aged >=...\n",
       "5529     Current asthma prevalence among adults aged >=...\n",
       "5632     Current asthma prevalence among adults aged >=...\n",
       "6777     Current asthma prevalence among adults aged >=...\n",
       "7034     Current asthma prevalence among adults aged >=...\n",
       "7102        Asthma prevalence among women aged 18-44 years\n",
       "7337     Current asthma prevalence among adults aged >=...\n",
       "7428     Current asthma prevalence among adults aged >=...\n",
       "7499     Current asthma prevalence among adults aged >=...\n",
       "7966     Current asthma prevalence among adults aged >=...\n",
       "8114     Current asthma prevalence among adults aged >=...\n",
       "8135     Current asthma prevalence among adults aged >=...\n",
       "8234     Current asthma prevalence among adults aged >=...\n",
       "8313        Asthma prevalence among women aged 18-44 years\n",
       "8645        Asthma prevalence among women aged 18-44 years\n",
       "8738        Asthma prevalence among women aged 18-44 years\n",
       "9000        Asthma prevalence among women aged 18-44 years\n",
       "9138     Current asthma prevalence among adults aged >=...\n",
       "9218     Current asthma prevalence among adults aged >=...\n",
       "9296        Asthma prevalence among women aged 18-44 years\n",
       "9370     Current asthma prevalence among adults aged >=...\n",
       "9371     Current asthma prevalence among adults aged >=...\n",
       "9372     Current asthma prevalence among adults aged >=...\n",
       "9373     Current asthma prevalence among adults aged >=...\n",
       "9374     Current asthma prevalence among adults aged >=...\n",
       "9375     Current asthma prevalence among adults aged >=...\n",
       "9376     Current asthma prevalence among adults aged >=...\n",
       "9377     Current asthma prevalence among adults aged >=...\n",
       "9378     Current asthma prevalence among adults aged >=...\n",
       "9379     Current asthma prevalence among adults aged >=...\n",
       "                               ...                        \n",
       "14024    Pneumococcal vaccination among noninstitutiona...\n",
       "14025    Pneumococcal vaccination among noninstitutiona...\n",
       "14026    Pneumococcal vaccination among noninstitutiona...\n",
       "14027    Pneumococcal vaccination among noninstitutiona...\n",
       "14028    Pneumococcal vaccination among noninstitutiona...\n",
       "14029    Pneumococcal vaccination among noninstitutiona...\n",
       "14030    Pneumococcal vaccination among noninstitutiona...\n",
       "14031    Pneumococcal vaccination among noninstitutiona...\n",
       "14032    Pneumococcal vaccination among noninstitutiona...\n",
       "14033    Pneumococcal vaccination among noninstitutiona...\n",
       "14034    Pneumococcal vaccination among noninstitutiona...\n",
       "14035    Pneumococcal vaccination among noninstitutiona...\n",
       "14036    Pneumococcal vaccination among noninstitutiona...\n",
       "14037    Pneumococcal vaccination among noninstitutiona...\n",
       "14038    Pneumococcal vaccination among noninstitutiona...\n",
       "14039    Pneumococcal vaccination among noninstitutiona...\n",
       "14040    Pneumococcal vaccination among noninstitutiona...\n",
       "14041    Pneumococcal vaccination among noninstitutiona...\n",
       "14042    Pneumococcal vaccination among noninstitutiona...\n",
       "14043    Pneumococcal vaccination among noninstitutiona...\n",
       "14044    Pneumococcal vaccination among noninstitutiona...\n",
       "14045    Pneumococcal vaccination among noninstitutiona...\n",
       "14046    Pneumococcal vaccination among noninstitutiona...\n",
       "14047    Pneumococcal vaccination among noninstitutiona...\n",
       "14048    Pneumococcal vaccination among noninstitutiona...\n",
       "14049    Pneumococcal vaccination among noninstitutiona...\n",
       "14050    Pneumococcal vaccination among noninstitutiona...\n",
       "14051    Pneumococcal vaccination among noninstitutiona...\n",
       "14052    Pneumococcal vaccination among noninstitutiona...\n",
       "14053    Pneumococcal vaccination among noninstitutiona...\n",
       "Name: Question, Length: 4675, dtype: object"
      ]
     },
     "execution_count": 52,
     "metadata": {},
     "output_type": "execute_result"
    }
   ],
   "source": [
    "df[df.Topic == 'Asthma'].Question"
   ]
  },
  {
   "cell_type": "markdown",
   "metadata": {},
   "source": [
    "## Level-Up\n",
    "## Create a bar graph of states with the highest asthma rates for adults age 18+"
   ]
  },
  {
   "cell_type": "markdown",
   "metadata": {},
   "source": [
    "## Level-Up!\n",
    "## Create a function (or class) that returns an outline of the schema structure like this: \n",
    "<img src=\"images/outline.jpg\" width=\"350\">\n",
    "\n",
    "Rules:\n",
    "* Your outline should follow the numbering outline above (I, A, 1, a, i).\n",
    "* Your outline should be properly indented! (Four spaces or one tab per indentation level.)\n",
    "* Your function goes to at least a depth of 5 (Level-up: create a parameter so that the user can specify this)\n",
    "* If an entry is a dictionary, list its keys as the subheadings\n",
    "* After listing a key name (where applicable) include a space, a dash and the data type of the entry\n",
    "* If an entry is a dict or list put in parentheses how many items are in the entry\n",
    "* lists will not have key names for their entries (they're just indexed)\n",
    "* For subheadings of a list, state their datatypes. \n",
    "* If a dictionary or list is more then 5 items long, only show the first 5 (we want to limit our previews); make an arbitrary order choice for dictionaries. (Level-up: Parallel to above; allow user to specify number of items to preview for large subheading collections.)"
   ]
  },
  {
   "cell_type": "code",
   "execution_count": null,
   "metadata": {},
   "outputs": [],
   "source": [
    "# Your code here; you will probably want to define subfunctions.\n",
    "def print_obj_outline(json_obj):\n",
    "    return outline"
   ]
  },
  {
   "cell_type": "code",
   "execution_count": 22,
   "metadata": {
    "collapsed": true
   },
   "outputs": [],
   "source": [
    "outline = print_obj_outline(data)"
   ]
  },
  {
   "cell_type": "code",
   "execution_count": 23,
   "metadata": {},
   "outputs": [
    {
     "name": "stdout",
     "output_type": "stream",
     "text": [
      "I. root - <class 'dict'> (2 items)\n",
      "    A. meta <class 'dict'> (1 items)\n",
      "        1. view <class 'dict'> (40 items)\n",
      "            a. id <class 'str'> \n",
      "            b. name <class 'str'> \n",
      "            c. attribution <class 'str'> \n",
      "            d. attributionLink <class 'str'> \n",
      "            e. averageRating <class 'int'> \n",
      "    B. data <class 'list'> (60266 items)\n",
      "        1. <class 'list'> (42 items)\n",
      "            a. <class 'int'> \n",
      "            b. <class 'str'> \n",
      "            c. <class 'int'> \n",
      "            d. <class 'int'> \n",
      "            e. <class 'str'> \n",
      "        2. <class 'list'> (42 items)\n",
      "            a. <class 'int'> \n",
      "            b. <class 'str'> \n",
      "            c. <class 'int'> \n",
      "            d. <class 'int'> \n",
      "            e. <class 'str'> \n",
      "        3. <class 'list'> (42 items)\n",
      "            a. <class 'int'> \n",
      "            b. <class 'str'> \n",
      "            c. <class 'int'> \n",
      "            d. <class 'int'> \n",
      "            e. <class 'str'> \n",
      "        4. <class 'list'> (42 items)\n",
      "            a. <class 'int'> \n",
      "            b. <class 'str'> \n",
      "            c. <class 'int'> \n",
      "            d. <class 'int'> \n",
      "            e. <class 'str'> \n",
      "        5. <class 'list'> (42 items)\n",
      "            a. <class 'int'> \n",
      "            b. <class 'str'> \n",
      "            c. <class 'int'> \n",
      "            d. <class 'int'> \n",
      "            e. <class 'str'> \n"
     ]
    }
   ],
   "source": [
    "print(outline) #Your function should produce the following output for this json object (and work for all json files!)"
   ]
  },
  {
   "cell_type": "markdown",
   "metadata": {},
   "source": [
    "## Summary\n",
    "\n",
    "Well done! In this lab you got some extended practice exploring the structure of JSON files and writing a recursive generalized function for outlining a JSON file's schema! "
   ]
  }
 ],
 "metadata": {
  "kernelspec": {
   "display_name": "Python 3",
   "language": "python",
   "name": "python3"
  },
  "language_info": {
   "codemirror_mode": {
    "name": "ipython",
    "version": 3
   },
   "file_extension": ".py",
   "mimetype": "text/x-python",
   "name": "python",
   "nbconvert_exporter": "python",
   "pygments_lexer": "ipython3",
   "version": "3.6.6"
  }
 },
 "nbformat": 4,
 "nbformat_minor": 2
}
